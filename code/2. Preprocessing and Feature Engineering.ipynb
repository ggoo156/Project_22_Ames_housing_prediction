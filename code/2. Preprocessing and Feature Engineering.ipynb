{
 "cells": [
  {
   "cell_type": "markdown",
   "metadata": {},
   "source": [
    "# 2. Preprocessing and Feature Engineering"
   ]
  },
  {
   "cell_type": "markdown",
   "metadata": {},
   "source": [
    "### Import libraries"
   ]
  },
  {
   "cell_type": "code",
   "execution_count": 137,
   "metadata": {},
   "outputs": [],
   "source": [
    "import pandas as pd\n",
    "import numpy as np\n",
    "import seaborn as sns\n",
    "import matplotlib.pyplot as plt\n",
    "from sklearn.model_selection import train_test_split\n",
    "from sklearn.model_selection import cross_val_score\n",
    "from sklearn.linear_model import LinearRegression"
   ]
  },
  {
   "cell_type": "markdown",
   "metadata": {},
   "source": [
    "### Find some important features"
   ]
  },
  {
   "cell_type": "code",
   "execution_count": 138,
   "metadata": {},
   "outputs": [],
   "source": [
    "# Read cleaned csv file.\n",
    "df         = pd.read_csv('../datasets/train_cleaned.csv', na_filter = False)\n",
    "df_to_pred = pd.read_csv('../datasets/test_cleaned.csv', na_filter = False)"
   ]
  },
  {
   "cell_type": "code",
   "execution_count": 139,
   "metadata": {},
   "outputs": [],
   "source": [
    "# Drop unnamed column.\n",
    "df.drop('Unnamed: 0', axis = 1, inplace = True)\n",
    "df_to_pred.drop('Unnamed: 0', axis = 1, inplace = True)"
   ]
  },
  {
   "cell_type": "code",
   "execution_count": 140,
   "metadata": {},
   "outputs": [
    {
     "data": {
      "text/html": [
       "<div>\n",
       "<style scoped>\n",
       "    .dataframe tbody tr th:only-of-type {\n",
       "        vertical-align: middle;\n",
       "    }\n",
       "\n",
       "    .dataframe tbody tr th {\n",
       "        vertical-align: top;\n",
       "    }\n",
       "\n",
       "    .dataframe thead th {\n",
       "        text-align: right;\n",
       "    }\n",
       "</style>\n",
       "<table border=\"1\" class=\"dataframe\">\n",
       "  <thead>\n",
       "    <tr style=\"text-align: right;\">\n",
       "      <th></th>\n",
       "      <th>saleprice</th>\n",
       "    </tr>\n",
       "  </thead>\n",
       "  <tbody>\n",
       "    <tr>\n",
       "      <th>saleprice</th>\n",
       "      <td>1.000000</td>\n",
       "    </tr>\n",
       "    <tr>\n",
       "      <th>overall_qual</th>\n",
       "      <td>0.800207</td>\n",
       "    </tr>\n",
       "    <tr>\n",
       "      <th>gr_liv_area</th>\n",
       "      <td>0.697038</td>\n",
       "    </tr>\n",
       "    <tr>\n",
       "      <th>garage_area</th>\n",
       "      <td>0.649897</td>\n",
       "    </tr>\n",
       "    <tr>\n",
       "      <th>garage_cars</th>\n",
       "      <td>0.647781</td>\n",
       "    </tr>\n",
       "    <tr>\n",
       "      <th>total_bsmt_sf</th>\n",
       "      <td>0.629303</td>\n",
       "    </tr>\n",
       "    <tr>\n",
       "      <th>1st_flr_sf</th>\n",
       "      <td>0.618486</td>\n",
       "    </tr>\n",
       "    <tr>\n",
       "      <th>year_built</th>\n",
       "      <td>0.571849</td>\n",
       "    </tr>\n",
       "    <tr>\n",
       "      <th>year_remod/add</th>\n",
       "      <td>0.550370</td>\n",
       "    </tr>\n",
       "    <tr>\n",
       "      <th>full_bath</th>\n",
       "      <td>0.537969</td>\n",
       "    </tr>\n",
       "    <tr>\n",
       "      <th>totrms_abvgrd</th>\n",
       "      <td>0.504014</td>\n",
       "    </tr>\n",
       "    <tr>\n",
       "      <th>mas_vnr_area</th>\n",
       "      <td>0.503579</td>\n",
       "    </tr>\n",
       "    <tr>\n",
       "      <th>fireplaces</th>\n",
       "      <td>0.471093</td>\n",
       "    </tr>\n",
       "    <tr>\n",
       "      <th>bsmtfin_sf_1</th>\n",
       "      <td>0.423856</td>\n",
       "    </tr>\n",
       "    <tr>\n",
       "      <th>open_porch_sf</th>\n",
       "      <td>0.333476</td>\n",
       "    </tr>\n",
       "    <tr>\n",
       "      <th>wood_deck_sf</th>\n",
       "      <td>0.326490</td>\n",
       "    </tr>\n",
       "    <tr>\n",
       "      <th>lot_area</th>\n",
       "      <td>0.296566</td>\n",
       "    </tr>\n",
       "    <tr>\n",
       "      <th>bsmt_full_bath</th>\n",
       "      <td>0.283332</td>\n",
       "    </tr>\n",
       "    <tr>\n",
       "      <th>half_bath</th>\n",
       "      <td>0.283001</td>\n",
       "    </tr>\n",
       "    <tr>\n",
       "      <th>garage_yr_blt</th>\n",
       "      <td>0.258441</td>\n",
       "    </tr>\n",
       "    <tr>\n",
       "      <th>2nd_flr_sf</th>\n",
       "      <td>0.248452</td>\n",
       "    </tr>\n",
       "    <tr>\n",
       "      <th>bsmt_unf_sf</th>\n",
       "      <td>0.190861</td>\n",
       "    </tr>\n",
       "    <tr>\n",
       "      <th>lot_frontage</th>\n",
       "      <td>0.181456</td>\n",
       "    </tr>\n",
       "    <tr>\n",
       "      <th>bedroom_abvgr</th>\n",
       "      <td>0.137067</td>\n",
       "    </tr>\n",
       "    <tr>\n",
       "      <th>screen_porch</th>\n",
       "      <td>0.134581</td>\n",
       "    </tr>\n",
       "    <tr>\n",
       "      <th>3ssn_porch</th>\n",
       "      <td>0.048732</td>\n",
       "    </tr>\n",
       "    <tr>\n",
       "      <th>mo_sold</th>\n",
       "      <td>0.032735</td>\n",
       "    </tr>\n",
       "    <tr>\n",
       "      <th>pool_area</th>\n",
       "      <td>0.023106</td>\n",
       "    </tr>\n",
       "    <tr>\n",
       "      <th>bsmtfin_sf_2</th>\n",
       "      <td>0.016432</td>\n",
       "    </tr>\n",
       "    <tr>\n",
       "      <th>misc_val</th>\n",
       "      <td>-0.007375</td>\n",
       "    </tr>\n",
       "    <tr>\n",
       "      <th>yr_sold</th>\n",
       "      <td>-0.015203</td>\n",
       "    </tr>\n",
       "    <tr>\n",
       "      <th>low_qual_fin_sf</th>\n",
       "      <td>-0.041594</td>\n",
       "    </tr>\n",
       "    <tr>\n",
       "      <th>bsmt_half_bath</th>\n",
       "      <td>-0.045290</td>\n",
       "    </tr>\n",
       "    <tr>\n",
       "      <th>id</th>\n",
       "      <td>-0.051398</td>\n",
       "    </tr>\n",
       "    <tr>\n",
       "      <th>ms_subclass</th>\n",
       "      <td>-0.087335</td>\n",
       "    </tr>\n",
       "    <tr>\n",
       "      <th>overall_cond</th>\n",
       "      <td>-0.097019</td>\n",
       "    </tr>\n",
       "    <tr>\n",
       "      <th>kitchen_abvgr</th>\n",
       "      <td>-0.125444</td>\n",
       "    </tr>\n",
       "    <tr>\n",
       "      <th>enclosed_porch</th>\n",
       "      <td>-0.135656</td>\n",
       "    </tr>\n",
       "    <tr>\n",
       "      <th>pid</th>\n",
       "      <td>-0.255052</td>\n",
       "    </tr>\n",
       "  </tbody>\n",
       "</table>\n",
       "</div>"
      ],
      "text/plain": [
       "                 saleprice\n",
       "saleprice         1.000000\n",
       "overall_qual      0.800207\n",
       "gr_liv_area       0.697038\n",
       "garage_area       0.649897\n",
       "garage_cars       0.647781\n",
       "total_bsmt_sf     0.629303\n",
       "1st_flr_sf        0.618486\n",
       "year_built        0.571849\n",
       "year_remod/add    0.550370\n",
       "full_bath         0.537969\n",
       "totrms_abvgrd     0.504014\n",
       "mas_vnr_area      0.503579\n",
       "fireplaces        0.471093\n",
       "bsmtfin_sf_1      0.423856\n",
       "open_porch_sf     0.333476\n",
       "wood_deck_sf      0.326490\n",
       "lot_area          0.296566\n",
       "bsmt_full_bath    0.283332\n",
       "half_bath         0.283001\n",
       "garage_yr_blt     0.258441\n",
       "2nd_flr_sf        0.248452\n",
       "bsmt_unf_sf       0.190861\n",
       "lot_frontage      0.181456\n",
       "bedroom_abvgr     0.137067\n",
       "screen_porch      0.134581\n",
       "3ssn_porch        0.048732\n",
       "mo_sold           0.032735\n",
       "pool_area         0.023106\n",
       "bsmtfin_sf_2      0.016432\n",
       "misc_val         -0.007375\n",
       "yr_sold          -0.015203\n",
       "low_qual_fin_sf  -0.041594\n",
       "bsmt_half_bath   -0.045290\n",
       "id               -0.051398\n",
       "ms_subclass      -0.087335\n",
       "overall_cond     -0.097019\n",
       "kitchen_abvgr    -0.125444\n",
       "enclosed_porch   -0.135656\n",
       "pid              -0.255052"
      ]
     },
     "execution_count": 140,
     "metadata": {},
     "output_type": "execute_result"
    }
   ],
   "source": [
    "# See the correlation.\n",
    "df.corr()[['saleprice']].sort_values(by='saleprice', ascending=False)"
   ]
  },
  {
   "cell_type": "code",
   "execution_count": 141,
   "metadata": {},
   "outputs": [],
   "source": [
    "# Drop 'ID', 'PID' columns. It is meaningless to predict saleprice.\n",
    "df.drop(columns=['id', 'pid'], inplace=True)\n",
    "df_to_pred.drop(columns=['id', 'pid'], inplace=True)"
   ]
  },
  {
   "cell_type": "markdown",
   "metadata": {},
   "source": [
    "- Usually, ordinal values represents the order or quality and those are related to saleprice."
   ]
  },
  {
   "cell_type": "markdown",
   "metadata": {},
   "source": [
    "### This is the list of the column name of ordinal data from the data description."
   ]
  },
  {
   "cell_type": "code",
   "execution_count": 142,
   "metadata": {},
   "outputs": [],
   "source": [
    "# List of columns which have ordinal values.\n",
    "# We will numerized them and get dummies.\n",
    "ordinal_list = ['lot_shape',\n",
    "               'utilities',\n",
    "               'land_slope',\n",
    "               'overall_qual',\n",
    "               'overall_cond',\n",
    "               'exter_qual',\n",
    "               'exter_cond',\n",
    "               'bsmt_qual',\n",
    "               'bsmt_cond',\n",
    "               'bsmt_exposure',\n",
    "               'bsmtfin_type_1',\n",
    "               'bsmtfin_type_2',\n",
    "               'heating_qc',\n",
    "               'electrical',\n",
    "               'kitchen_qual',\n",
    "               'functional',\n",
    "               'fireplace_qu',\n",
    "               'garage_finish',\n",
    "               'garage_qual',\n",
    "               'garage_cond',\n",
    "               'paved_drive',\n",
    "               'fence']"
   ]
  },
  {
   "cell_type": "code",
   "execution_count": 143,
   "metadata": {},
   "outputs": [],
   "source": [
    "# List of columns which have nominal values.\n",
    "nominal_list = ['ms_subclass',\n",
    "               'ms_zoning',\n",
    "               'street',\n",
    "               'land_contour',\n",
    "               'lot_config',\n",
    "               'neighborhood',\n",
    "               'condition_1',\n",
    "               'condition_2',\n",
    "               'bldg_type',\n",
    "               'house_style',\n",
    "               'roof_style', \n",
    "               'roof_matl',\n",
    "               'exterior_1st', \n",
    "               'exterior_2nd',\n",
    "               'mas_vnr_type',\n",
    "               'foundation',\n",
    "               'heating',\n",
    "               'central_air',\n",
    "               'garage_type',\n",
    "               'sale_type']"
   ]
  },
  {
   "cell_type": "markdown",
   "metadata": {},
   "source": [
    "### Check each column and numerize ordinal values"
   ]
  },
  {
   "cell_type": "markdown",
   "metadata": {},
   "source": [
    "#### lot shape column"
   ]
  },
  {
   "cell_type": "code",
   "execution_count": 144,
   "metadata": {},
   "outputs": [
    {
     "data": {
      "text/plain": [
       "Reg    1295\n",
       "IR1     692\n",
       "IR2      55\n",
       "IR3       9\n",
       "Name: lot_shape, dtype: int64"
      ]
     },
     "execution_count": 144,
     "metadata": {},
     "output_type": "execute_result"
    }
   ],
   "source": [
    "df.lot_shape.value_counts()"
   ]
  },
  {
   "cell_type": "code",
   "execution_count": 145,
   "metadata": {},
   "outputs": [],
   "source": [
    "df['lot_shape'] = df['lot_shape'].map({'Reg':3, 'IR1':2, 'IR2':1, 'IR3':0 })\n",
    "df_to_pred['lot_shape'] = df_to_pred['lot_shape'].map({'Reg':3, 'IR1':2, 'IR2':1, 'IR3':0 })"
   ]
  },
  {
   "cell_type": "markdown",
   "metadata": {},
   "source": [
    "#### utility column"
   ]
  },
  {
   "cell_type": "code",
   "execution_count": 146,
   "metadata": {
    "scrolled": true
   },
   "outputs": [
    {
     "data": {
      "text/plain": [
       "AllPub    2049\n",
       "NoSewr       1\n",
       "NoSeWa       1\n",
       "Name: utilities, dtype: int64"
      ]
     },
     "execution_count": 146,
     "metadata": {},
     "output_type": "execute_result"
    }
   ],
   "source": [
    "df.utilities.value_counts()"
   ]
  },
  {
   "cell_type": "markdown",
   "metadata": {},
   "source": [
    "- Distribution is skewed too much. This feature won't affect the result much. \n",
    "- We will drop this column."
   ]
  },
  {
   "cell_type": "markdown",
   "metadata": {},
   "source": [
    "#### land slope column"
   ]
  },
  {
   "cell_type": "code",
   "execution_count": 147,
   "metadata": {},
   "outputs": [
    {
     "data": {
      "text/plain": [
       "Gtl    1953\n",
       "Mod      88\n",
       "Sev      10\n",
       "Name: land_slope, dtype: int64"
      ]
     },
     "execution_count": 147,
     "metadata": {},
     "output_type": "execute_result"
    }
   ],
   "source": [
    "df.land_slope.value_counts()"
   ]
  },
  {
   "cell_type": "code",
   "execution_count": 148,
   "metadata": {},
   "outputs": [],
   "source": [
    "df['land_slope'] = df['land_slope'].map({'Gtl':2, 'Mod':1, 'Sev':0})\n",
    "df_to_pred['land_slope'] = df_to_pred['land_slope'].map({'Gtl':2, 'Mod':1, 'Sev':0})"
   ]
  },
  {
   "cell_type": "markdown",
   "metadata": {},
   "source": [
    "#### exter qual, exter cond columns"
   ]
  },
  {
   "cell_type": "code",
   "execution_count": 149,
   "metadata": {},
   "outputs": [
    {
     "data": {
      "text/plain": [
       "TA    1778\n",
       "Gd     215\n",
       "Fa      49\n",
       "Ex       7\n",
       "Po       2\n",
       "Name: exter_cond, dtype: int64"
      ]
     },
     "execution_count": 149,
     "metadata": {},
     "output_type": "execute_result"
    }
   ],
   "source": [
    "df.exter_qual.value_counts() \n",
    "df.exter_cond.value_counts()"
   ]
  },
  {
   "cell_type": "code",
   "execution_count": 150,
   "metadata": {},
   "outputs": [],
   "source": [
    "df['exter_qual'] = df['exter_qual'].map({'Ex':4, 'Gd':3, 'TA':2, 'Fa':1, 'Po':0})\n",
    "df['exter_cond'] = df['exter_cond'].map({'Ex':4, 'Gd':3, 'TA':2, 'Fa':1, 'Po':0})\n",
    "df_to_pred['exter_qual'] = df_to_pred['exter_qual'].map({'Ex':4, 'Gd':3, 'TA':2, 'Fa':1, 'Po':0})\n",
    "df_to_pred['exter_cond'] = df_to_pred['exter_cond'].map({'Ex':4, 'Gd':3, 'TA':2, 'Fa':1, 'Po':0})"
   ]
  },
  {
   "cell_type": "markdown",
   "metadata": {},
   "source": [
    "#### bsmt qual, bsmt cond columns"
   ]
  },
  {
   "cell_type": "code",
   "execution_count": 151,
   "metadata": {},
   "outputs": [
    {
     "data": {
      "text/plain": [
       "TA    1834\n",
       "Gd      89\n",
       "Fa      65\n",
       "NA      55\n",
       "Po       5\n",
       "Ex       3\n",
       "Name: bsmt_cond, dtype: int64"
      ]
     },
     "execution_count": 151,
     "metadata": {},
     "output_type": "execute_result"
    }
   ],
   "source": [
    "df.bsmt_qual.value_counts()\n",
    "df.bsmt_cond.value_counts()"
   ]
  },
  {
   "cell_type": "code",
   "execution_count": 152,
   "metadata": {},
   "outputs": [],
   "source": [
    "df['bsmt_qual'] = df['bsmt_qual'].map({'Ex':5, 'Gd':4, 'TA':3, 'Fa':2, 'Po':1, 'NA':0})\n",
    "df['bsmt_cond'] = df['bsmt_cond'].map({'Ex':5, 'Gd':4, 'TA':3, 'Fa':2, 'Po':1, 'NA':0})\n",
    "df_to_pred['bsmt_qual'] = df_to_pred['bsmt_qual'].map({'Ex':5, 'Gd':4, 'TA':3, 'Fa':2, 'Po':1, 'NA':0})\n",
    "df_to_pred['bsmt_cond'] = df_to_pred['bsmt_cond'].map({'Ex':5, 'Gd':4, 'TA':3, 'Fa':2, 'Po':1, 'NA':0})"
   ]
  },
  {
   "cell_type": "markdown",
   "metadata": {},
   "source": [
    "#### bsmt exposure column"
   ]
  },
  {
   "cell_type": "code",
   "execution_count": 153,
   "metadata": {},
   "outputs": [
    {
     "data": {
      "text/plain": [
       "No    1339\n",
       "Av     288\n",
       "Gd     203\n",
       "Mn     163\n",
       "NA      58\n",
       "Name: bsmt_exposure, dtype: int64"
      ]
     },
     "execution_count": 153,
     "metadata": {},
     "output_type": "execute_result"
    }
   ],
   "source": [
    "df.bsmt_exposure.value_counts()"
   ]
  },
  {
   "cell_type": "code",
   "execution_count": 154,
   "metadata": {},
   "outputs": [],
   "source": [
    "df['bsmt_exposure'] = df['bsmt_exposure'].map({'Gd':4, 'Av':3, 'Mn':2, 'No':1, 'NA':0})\n",
    "df_to_pred['bsmt_exposure'] = df_to_pred['bsmt_exposure'].map({'Gd':4, 'Av':3, 'Mn':2, 'No':1, 'NA':0})"
   ]
  },
  {
   "cell_type": "markdown",
   "metadata": {},
   "source": [
    "#### bsmt fin type 1, type 2 columns"
   ]
  },
  {
   "cell_type": "code",
   "execution_count": 155,
   "metadata": {},
   "outputs": [
    {
     "data": {
      "text/plain": [
       "GLQ    615\n",
       "Unf    603\n",
       "ALQ    293\n",
       "BLQ    200\n",
       "Rec    183\n",
       "LwQ    102\n",
       "NA      55\n",
       "Name: bsmtfin_type_1, dtype: int64"
      ]
     },
     "execution_count": 155,
     "metadata": {},
     "output_type": "execute_result"
    }
   ],
   "source": [
    "df.bsmtfin_type_1.value_counts()"
   ]
  },
  {
   "cell_type": "code",
   "execution_count": 156,
   "metadata": {},
   "outputs": [],
   "source": [
    "df['bsmtfin_type_1'] = df['bsmtfin_type_1'].map({'GLQ':6, 'ALQ':5, 'BLQ':4, 'Rec':3, 'LwQ':2, 'Unf':1, 'NA':0})\n",
    "df['bsmtfin_type_2'] = df['bsmtfin_type_2'].map({'GLQ':6, 'ALQ':5, 'BLQ':4, 'Rec':3, 'LwQ':2, 'Unf':1, 'NA':0})\n",
    "df_to_pred['bsmtfin_type_1'] = df_to_pred['bsmtfin_type_1'].map({'GLQ':6, 'ALQ':5, 'BLQ':4, 'Rec':3, 'LwQ':2, 'Unf':1, 'NA':0})\n",
    "df_to_pred['bsmtfin_type_2'] = df_to_pred['bsmtfin_type_2'].map({'GLQ':6, 'ALQ':5, 'BLQ':4, 'Rec':3, 'LwQ':2, 'Unf':1, 'NA':0})"
   ]
  },
  {
   "cell_type": "markdown",
   "metadata": {},
   "source": [
    "#### heating qc columns"
   ]
  },
  {
   "cell_type": "code",
   "execution_count": 157,
   "metadata": {},
   "outputs": [
    {
     "data": {
      "text/plain": [
       "Ex    1065\n",
       "TA     597\n",
       "Gd     319\n",
       "Fa      67\n",
       "Po       3\n",
       "Name: heating_qc, dtype: int64"
      ]
     },
     "execution_count": 157,
     "metadata": {},
     "output_type": "execute_result"
    }
   ],
   "source": [
    "df.heating_qc.value_counts()"
   ]
  },
  {
   "cell_type": "code",
   "execution_count": 158,
   "metadata": {},
   "outputs": [],
   "source": [
    "df['heating_qc'] = df['heating_qc'].map({'Ex':4, 'Gd':3, 'TA':2, 'Fa':1, 'Po':0})\n",
    "df_to_pred['heating_qc'] = df_to_pred['heating_qc'].map({'Ex':4, 'Gd':3, 'TA':2, 'Fa':1, 'Po':0})"
   ]
  },
  {
   "cell_type": "markdown",
   "metadata": {},
   "source": [
    "#### electrical column"
   ]
  },
  {
   "cell_type": "code",
   "execution_count": 159,
   "metadata": {},
   "outputs": [
    {
     "data": {
      "text/plain": [
       "SBrkr    1868\n",
       "FuseA     140\n",
       "FuseF      35\n",
       "FuseP       7\n",
       "Mix         1\n",
       "Name: electrical, dtype: int64"
      ]
     },
     "execution_count": 159,
     "metadata": {},
     "output_type": "execute_result"
    }
   ],
   "source": [
    "df.electrical.value_counts()"
   ]
  },
  {
   "cell_type": "code",
   "execution_count": 160,
   "metadata": {},
   "outputs": [],
   "source": [
    "df['electrical'] = df['electrical'].map({'SBrkr':4, 'FuseA':3, 'FuseF':2, 'FuseP':1, 'Mix':1})\n",
    "df_to_pred['electrical'] = df_to_pred['electrical'].map({'SBrkr':4, 'FuseA':3, 'FuseF':2, 'FuseP':1, 'Mix':1})"
   ]
  },
  {
   "cell_type": "markdown",
   "metadata": {},
   "source": [
    "#### kitchen qual column"
   ]
  },
  {
   "cell_type": "code",
   "execution_count": 161,
   "metadata": {},
   "outputs": [
    {
     "data": {
      "text/plain": [
       "TA    1047\n",
       "Gd     806\n",
       "Ex     151\n",
       "Fa      47\n",
       "Name: kitchen_qual, dtype: int64"
      ]
     },
     "execution_count": 161,
     "metadata": {},
     "output_type": "execute_result"
    }
   ],
   "source": [
    "df.kitchen_qual.value_counts()"
   ]
  },
  {
   "cell_type": "code",
   "execution_count": 162,
   "metadata": {},
   "outputs": [],
   "source": [
    "df['kitchen_qual'] = df['kitchen_qual'].map({'Ex':4, 'Gd':3, 'TA':2, 'Fa':1, 'Po':0})\n",
    "df_to_pred['kitchen_qual'] = df_to_pred['kitchen_qual'].map({'Ex':4, 'Gd':3, 'TA':2, 'Fa':1, 'Po':0})"
   ]
  },
  {
   "cell_type": "markdown",
   "metadata": {},
   "source": [
    "#### functional column"
   ]
  },
  {
   "cell_type": "code",
   "execution_count": 163,
   "metadata": {
    "scrolled": true
   },
   "outputs": [
    {
     "data": {
      "text/plain": [
       "Typ     1915\n",
       "Min1      42\n",
       "Min2      42\n",
       "Mod       29\n",
       "Maj1      12\n",
       "Maj2       7\n",
       "Sev        2\n",
       "Sal        2\n",
       "Name: functional, dtype: int64"
      ]
     },
     "execution_count": 163,
     "metadata": {},
     "output_type": "execute_result"
    }
   ],
   "source": [
    "df.functional.value_counts()"
   ]
  },
  {
   "cell_type": "code",
   "execution_count": 164,
   "metadata": {},
   "outputs": [],
   "source": [
    "df['functional'] = df['functional'].map({'Typ':7, 'Min1':6, 'Min2':5, 'Mod':4, 'Maj1':3, 'Maj2':2, 'Sal':1, 'Sev':0})\n",
    "df_to_pred['functional'] = df_to_pred['functional'].map({'Typ':7, 'Min1':6, 'Min2':5, 'Mod':4, 'Maj1':3, 'Maj2':2, 'Sal':1, 'Sev':0})\n"
   ]
  },
  {
   "cell_type": "markdown",
   "metadata": {},
   "source": [
    "#### fireplace qu column"
   ]
  },
  {
   "cell_type": "code",
   "execution_count": 165,
   "metadata": {},
   "outputs": [
    {
     "data": {
      "text/plain": [
       "NA    1000\n",
       "Gd     523\n",
       "TA     407\n",
       "Fa      59\n",
       "Ex      31\n",
       "Po      31\n",
       "Name: fireplace_qu, dtype: int64"
      ]
     },
     "execution_count": 165,
     "metadata": {},
     "output_type": "execute_result"
    }
   ],
   "source": [
    "df.fireplace_qu.value_counts()"
   ]
  },
  {
   "cell_type": "code",
   "execution_count": 166,
   "metadata": {},
   "outputs": [],
   "source": [
    "df['fireplace_qu'] = df['fireplace_qu'].map({'Ex':5, 'Gd':4, 'TA':3, 'Fa':2, 'Po':1, 'NA':0})\n",
    "df_to_pred['fireplace_qu'] = df_to_pred['fireplace_qu'].map({'Ex':5, 'Gd':4, 'TA':3, 'Fa':2, 'Po':1, 'NA':0})"
   ]
  },
  {
   "cell_type": "markdown",
   "metadata": {},
   "source": [
    "#### garage finish column"
   ]
  },
  {
   "cell_type": "code",
   "execution_count": 167,
   "metadata": {},
   "outputs": [
    {
     "data": {
      "text/plain": [
       "Unf    849\n",
       "RFn    579\n",
       "Fin    509\n",
       "NA     114\n",
       "Name: garage_finish, dtype: int64"
      ]
     },
     "execution_count": 167,
     "metadata": {},
     "output_type": "execute_result"
    }
   ],
   "source": [
    "df.garage_finish.value_counts()"
   ]
  },
  {
   "cell_type": "code",
   "execution_count": 168,
   "metadata": {},
   "outputs": [],
   "source": [
    "df['garage_finish'] = df['garage_finish'].map({'Fin':3, 'RFn':2, 'Unf':1, 'NA':0})\n",
    "df_to_pred['garage_finish'] = df_to_pred['garage_finish'].map({'Fin':3, 'RFn':2, 'Unf':1, 'NA':0})"
   ]
  },
  {
   "cell_type": "markdown",
   "metadata": {},
   "source": [
    "#### Garage qual, garage cond columns"
   ]
  },
  {
   "cell_type": "code",
   "execution_count": 169,
   "metadata": {},
   "outputs": [
    {
     "data": {
      "text/plain": [
       "TA    1868\n",
       "NA     114\n",
       "Fa      47\n",
       "Gd      12\n",
       "Po       8\n",
       "Ex       2\n",
       "Name: garage_cond, dtype: int64"
      ]
     },
     "execution_count": 169,
     "metadata": {},
     "output_type": "execute_result"
    }
   ],
   "source": [
    "df.garage_qual.value_counts()\n",
    "df.garage_cond.value_counts()"
   ]
  },
  {
   "cell_type": "code",
   "execution_count": 170,
   "metadata": {},
   "outputs": [],
   "source": [
    "df['garage_qual'] = df['garage_qual'].map({'Ex':5, 'Gd':4, 'TA':3, 'Fa':2, 'Po':1, 'NA':0})\n",
    "df['garage_cond'] = df['garage_cond'].map({'Ex':5, 'Gd':4, 'TA':3, 'Fa':2, 'Po':1, 'NA':0})\n",
    "df_to_pred['garage_qual'] = df_to_pred['garage_qual'].map({'Ex':5, 'Gd':4, 'TA':3, 'Fa':2, 'Po':1, 'NA':0})\n",
    "df_to_pred['garage_cond'] = df_to_pred['garage_cond'].map({'Ex':5, 'Gd':4, 'TA':3, 'Fa':2, 'Po':1, 'NA':0})"
   ]
  },
  {
   "cell_type": "markdown",
   "metadata": {},
   "source": [
    "#### paved drive column"
   ]
  },
  {
   "cell_type": "code",
   "execution_count": 171,
   "metadata": {},
   "outputs": [
    {
     "data": {
      "text/plain": [
       "Y    1861\n",
       "N     151\n",
       "P      39\n",
       "Name: paved_drive, dtype: int64"
      ]
     },
     "execution_count": 171,
     "metadata": {},
     "output_type": "execute_result"
    }
   ],
   "source": [
    "df.paved_drive.value_counts()"
   ]
  },
  {
   "cell_type": "code",
   "execution_count": 172,
   "metadata": {},
   "outputs": [],
   "source": [
    "df['paved_drive'] = df['paved_drive'].map({'Y':2, 'P':1, 'N':0})\n",
    "df_to_pred['paved_drive'] = df_to_pred['paved_drive'].map({'Y':2, 'P':1, 'N':0})"
   ]
  },
  {
   "cell_type": "markdown",
   "metadata": {},
   "source": [
    "#### fence column"
   ]
  },
  {
   "cell_type": "code",
   "execution_count": 173,
   "metadata": {},
   "outputs": [
    {
     "data": {
      "text/plain": [
       "NA       1651\n",
       "MnPrv     227\n",
       "GdPrv      83\n",
       "GdWo       80\n",
       "MnWw       10\n",
       "Name: fence, dtype: int64"
      ]
     },
     "execution_count": 173,
     "metadata": {},
     "output_type": "execute_result"
    }
   ],
   "source": [
    "df.fence.value_counts()"
   ]
  },
  {
   "cell_type": "code",
   "execution_count": 174,
   "metadata": {},
   "outputs": [],
   "source": [
    "df['fence'] = df['fence'].map({'GdPrv':4, 'MnPrv':3, 'GdWo':2, 'MnWw':1, 'NA':0})\n",
    "df_to_pred['fence'] = df_to_pred['fence'].map({'GdPrv':4, 'MnPrv':3, 'GdWo':2, 'MnWw':1, 'NA':0})"
   ]
  },
  {
   "cell_type": "markdown",
   "metadata": {},
   "source": [
    "#### overall qual, overall cond,"
   ]
  },
  {
   "cell_type": "markdown",
   "metadata": {},
   "source": [
    "- Already numerized"
   ]
  },
  {
   "cell_type": "markdown",
   "metadata": {},
   "source": [
    "#### Lets remove 'utilities' column."
   ]
  },
  {
   "cell_type": "code",
   "execution_count": 175,
   "metadata": {},
   "outputs": [],
   "source": [
    "df.drop('utilities', axis = 1, inplace = True)\n",
    "df_to_pred.drop('utilities', axis = 1, inplace = True)"
   ]
  },
  {
   "cell_type": "code",
   "execution_count": 176,
   "metadata": {},
   "outputs": [],
   "source": [
    "ordinal_list.remove('utilities')"
   ]
  },
  {
   "cell_type": "markdown",
   "metadata": {},
   "source": [
    "#### Check data."
   ]
  },
  {
   "cell_type": "code",
   "execution_count": 177,
   "metadata": {},
   "outputs": [
    {
     "data": {
      "text/html": [
       "<div>\n",
       "<style scoped>\n",
       "    .dataframe tbody tr th:only-of-type {\n",
       "        vertical-align: middle;\n",
       "    }\n",
       "\n",
       "    .dataframe tbody tr th {\n",
       "        vertical-align: top;\n",
       "    }\n",
       "\n",
       "    .dataframe thead th {\n",
       "        text-align: right;\n",
       "    }\n",
       "</style>\n",
       "<table border=\"1\" class=\"dataframe\">\n",
       "  <thead>\n",
       "    <tr style=\"text-align: right;\">\n",
       "      <th></th>\n",
       "      <th>ms_subclass</th>\n",
       "      <th>ms_zoning</th>\n",
       "      <th>lot_frontage</th>\n",
       "      <th>lot_area</th>\n",
       "      <th>street</th>\n",
       "      <th>lot_shape</th>\n",
       "      <th>land_contour</th>\n",
       "      <th>lot_config</th>\n",
       "      <th>land_slope</th>\n",
       "      <th>neighborhood</th>\n",
       "      <th>...</th>\n",
       "      <th>enclosed_porch</th>\n",
       "      <th>3ssn_porch</th>\n",
       "      <th>screen_porch</th>\n",
       "      <th>pool_area</th>\n",
       "      <th>fence</th>\n",
       "      <th>misc_val</th>\n",
       "      <th>mo_sold</th>\n",
       "      <th>yr_sold</th>\n",
       "      <th>sale_type</th>\n",
       "      <th>saleprice</th>\n",
       "    </tr>\n",
       "  </thead>\n",
       "  <tbody>\n",
       "    <tr>\n",
       "      <th>0</th>\n",
       "      <td>60</td>\n",
       "      <td>RL</td>\n",
       "      <td>0.0</td>\n",
       "      <td>13517</td>\n",
       "      <td>Pave</td>\n",
       "      <td>2</td>\n",
       "      <td>Lvl</td>\n",
       "      <td>CulDSac</td>\n",
       "      <td>2</td>\n",
       "      <td>Sawyer</td>\n",
       "      <td>...</td>\n",
       "      <td>0</td>\n",
       "      <td>0</td>\n",
       "      <td>0</td>\n",
       "      <td>0</td>\n",
       "      <td>0</td>\n",
       "      <td>0</td>\n",
       "      <td>3</td>\n",
       "      <td>2010</td>\n",
       "      <td>WD</td>\n",
       "      <td>130500</td>\n",
       "    </tr>\n",
       "    <tr>\n",
       "      <th>1</th>\n",
       "      <td>60</td>\n",
       "      <td>RL</td>\n",
       "      <td>43.0</td>\n",
       "      <td>11492</td>\n",
       "      <td>Pave</td>\n",
       "      <td>2</td>\n",
       "      <td>Lvl</td>\n",
       "      <td>CulDSac</td>\n",
       "      <td>2</td>\n",
       "      <td>SawyerW</td>\n",
       "      <td>...</td>\n",
       "      <td>0</td>\n",
       "      <td>0</td>\n",
       "      <td>0</td>\n",
       "      <td>0</td>\n",
       "      <td>0</td>\n",
       "      <td>0</td>\n",
       "      <td>4</td>\n",
       "      <td>2009</td>\n",
       "      <td>WD</td>\n",
       "      <td>220000</td>\n",
       "    </tr>\n",
       "    <tr>\n",
       "      <th>2</th>\n",
       "      <td>20</td>\n",
       "      <td>RL</td>\n",
       "      <td>68.0</td>\n",
       "      <td>7922</td>\n",
       "      <td>Pave</td>\n",
       "      <td>3</td>\n",
       "      <td>Lvl</td>\n",
       "      <td>Inside</td>\n",
       "      <td>2</td>\n",
       "      <td>NAmes</td>\n",
       "      <td>...</td>\n",
       "      <td>0</td>\n",
       "      <td>0</td>\n",
       "      <td>0</td>\n",
       "      <td>0</td>\n",
       "      <td>0</td>\n",
       "      <td>0</td>\n",
       "      <td>1</td>\n",
       "      <td>2010</td>\n",
       "      <td>WD</td>\n",
       "      <td>109000</td>\n",
       "    </tr>\n",
       "    <tr>\n",
       "      <th>3</th>\n",
       "      <td>60</td>\n",
       "      <td>RL</td>\n",
       "      <td>73.0</td>\n",
       "      <td>9802</td>\n",
       "      <td>Pave</td>\n",
       "      <td>3</td>\n",
       "      <td>Lvl</td>\n",
       "      <td>Inside</td>\n",
       "      <td>2</td>\n",
       "      <td>Timber</td>\n",
       "      <td>...</td>\n",
       "      <td>0</td>\n",
       "      <td>0</td>\n",
       "      <td>0</td>\n",
       "      <td>0</td>\n",
       "      <td>0</td>\n",
       "      <td>0</td>\n",
       "      <td>4</td>\n",
       "      <td>2010</td>\n",
       "      <td>WD</td>\n",
       "      <td>174000</td>\n",
       "    </tr>\n",
       "    <tr>\n",
       "      <th>4</th>\n",
       "      <td>50</td>\n",
       "      <td>RL</td>\n",
       "      <td>82.0</td>\n",
       "      <td>14235</td>\n",
       "      <td>Pave</td>\n",
       "      <td>2</td>\n",
       "      <td>Lvl</td>\n",
       "      <td>Inside</td>\n",
       "      <td>2</td>\n",
       "      <td>SawyerW</td>\n",
       "      <td>...</td>\n",
       "      <td>0</td>\n",
       "      <td>0</td>\n",
       "      <td>0</td>\n",
       "      <td>0</td>\n",
       "      <td>0</td>\n",
       "      <td>0</td>\n",
       "      <td>3</td>\n",
       "      <td>2010</td>\n",
       "      <td>WD</td>\n",
       "      <td>138500</td>\n",
       "    </tr>\n",
       "  </tbody>\n",
       "</table>\n",
       "<p>5 rows × 75 columns</p>\n",
       "</div>"
      ],
      "text/plain": [
       "   ms_subclass ms_zoning  lot_frontage  lot_area street  lot_shape  \\\n",
       "0           60        RL           0.0     13517   Pave          2   \n",
       "1           60        RL          43.0     11492   Pave          2   \n",
       "2           20        RL          68.0      7922   Pave          3   \n",
       "3           60        RL          73.0      9802   Pave          3   \n",
       "4           50        RL          82.0     14235   Pave          2   \n",
       "\n",
       "  land_contour lot_config  land_slope neighborhood    ...    enclosed_porch  \\\n",
       "0          Lvl    CulDSac           2       Sawyer    ...                 0   \n",
       "1          Lvl    CulDSac           2      SawyerW    ...                 0   \n",
       "2          Lvl     Inside           2        NAmes    ...                 0   \n",
       "3          Lvl     Inside           2       Timber    ...                 0   \n",
       "4          Lvl     Inside           2      SawyerW    ...                 0   \n",
       "\n",
       "  3ssn_porch screen_porch pool_area  fence  misc_val  mo_sold  yr_sold  \\\n",
       "0          0            0         0      0         0        3     2010   \n",
       "1          0            0         0      0         0        4     2009   \n",
       "2          0            0         0      0         0        1     2010   \n",
       "3          0            0         0      0         0        4     2010   \n",
       "4          0            0         0      0         0        3     2010   \n",
       "\n",
       "  sale_type saleprice  \n",
       "0       WD     130500  \n",
       "1       WD     220000  \n",
       "2       WD     109000  \n",
       "3       WD     174000  \n",
       "4       WD     138500  \n",
       "\n",
       "[5 rows x 75 columns]"
      ]
     },
     "execution_count": 177,
     "metadata": {},
     "output_type": "execute_result"
    }
   ],
   "source": [
    "df.head()"
   ]
  },
  {
   "cell_type": "code",
   "execution_count": 178,
   "metadata": {},
   "outputs": [
    {
     "data": {
      "text/html": [
       "<div>\n",
       "<style scoped>\n",
       "    .dataframe tbody tr th:only-of-type {\n",
       "        vertical-align: middle;\n",
       "    }\n",
       "\n",
       "    .dataframe tbody tr th {\n",
       "        vertical-align: top;\n",
       "    }\n",
       "\n",
       "    .dataframe thead th {\n",
       "        text-align: right;\n",
       "    }\n",
       "</style>\n",
       "<table border=\"1\" class=\"dataframe\">\n",
       "  <thead>\n",
       "    <tr style=\"text-align: right;\">\n",
       "      <th></th>\n",
       "      <th>ms_subclass</th>\n",
       "      <th>ms_zoning</th>\n",
       "      <th>lot_frontage</th>\n",
       "      <th>lot_area</th>\n",
       "      <th>street</th>\n",
       "      <th>lot_shape</th>\n",
       "      <th>land_contour</th>\n",
       "      <th>lot_config</th>\n",
       "      <th>land_slope</th>\n",
       "      <th>neighborhood</th>\n",
       "      <th>...</th>\n",
       "      <th>open_porch_sf</th>\n",
       "      <th>enclosed_porch</th>\n",
       "      <th>3ssn_porch</th>\n",
       "      <th>screen_porch</th>\n",
       "      <th>pool_area</th>\n",
       "      <th>fence</th>\n",
       "      <th>misc_val</th>\n",
       "      <th>mo_sold</th>\n",
       "      <th>yr_sold</th>\n",
       "      <th>sale_type</th>\n",
       "    </tr>\n",
       "  </thead>\n",
       "  <tbody>\n",
       "    <tr>\n",
       "      <th>0</th>\n",
       "      <td>190</td>\n",
       "      <td>RM</td>\n",
       "      <td>69.0</td>\n",
       "      <td>9142</td>\n",
       "      <td>Pave</td>\n",
       "      <td>3</td>\n",
       "      <td>Lvl</td>\n",
       "      <td>Inside</td>\n",
       "      <td>2</td>\n",
       "      <td>OldTown</td>\n",
       "      <td>...</td>\n",
       "      <td>60</td>\n",
       "      <td>112</td>\n",
       "      <td>0</td>\n",
       "      <td>0</td>\n",
       "      <td>0</td>\n",
       "      <td>0</td>\n",
       "      <td>0</td>\n",
       "      <td>4</td>\n",
       "      <td>2006</td>\n",
       "      <td>WD</td>\n",
       "    </tr>\n",
       "    <tr>\n",
       "      <th>1</th>\n",
       "      <td>90</td>\n",
       "      <td>RL</td>\n",
       "      <td>0.0</td>\n",
       "      <td>9662</td>\n",
       "      <td>Pave</td>\n",
       "      <td>2</td>\n",
       "      <td>Lvl</td>\n",
       "      <td>Inside</td>\n",
       "      <td>2</td>\n",
       "      <td>Sawyer</td>\n",
       "      <td>...</td>\n",
       "      <td>0</td>\n",
       "      <td>0</td>\n",
       "      <td>0</td>\n",
       "      <td>0</td>\n",
       "      <td>0</td>\n",
       "      <td>0</td>\n",
       "      <td>0</td>\n",
       "      <td>8</td>\n",
       "      <td>2006</td>\n",
       "      <td>WD</td>\n",
       "    </tr>\n",
       "    <tr>\n",
       "      <th>2</th>\n",
       "      <td>60</td>\n",
       "      <td>RL</td>\n",
       "      <td>58.0</td>\n",
       "      <td>17104</td>\n",
       "      <td>Pave</td>\n",
       "      <td>2</td>\n",
       "      <td>Lvl</td>\n",
       "      <td>Inside</td>\n",
       "      <td>2</td>\n",
       "      <td>Gilbert</td>\n",
       "      <td>...</td>\n",
       "      <td>24</td>\n",
       "      <td>0</td>\n",
       "      <td>0</td>\n",
       "      <td>0</td>\n",
       "      <td>0</td>\n",
       "      <td>0</td>\n",
       "      <td>0</td>\n",
       "      <td>9</td>\n",
       "      <td>2006</td>\n",
       "      <td>New</td>\n",
       "    </tr>\n",
       "    <tr>\n",
       "      <th>3</th>\n",
       "      <td>30</td>\n",
       "      <td>RM</td>\n",
       "      <td>60.0</td>\n",
       "      <td>8520</td>\n",
       "      <td>Pave</td>\n",
       "      <td>3</td>\n",
       "      <td>Lvl</td>\n",
       "      <td>Inside</td>\n",
       "      <td>2</td>\n",
       "      <td>OldTown</td>\n",
       "      <td>...</td>\n",
       "      <td>0</td>\n",
       "      <td>184</td>\n",
       "      <td>0</td>\n",
       "      <td>0</td>\n",
       "      <td>0</td>\n",
       "      <td>0</td>\n",
       "      <td>0</td>\n",
       "      <td>7</td>\n",
       "      <td>2007</td>\n",
       "      <td>WD</td>\n",
       "    </tr>\n",
       "    <tr>\n",
       "      <th>4</th>\n",
       "      <td>20</td>\n",
       "      <td>RL</td>\n",
       "      <td>0.0</td>\n",
       "      <td>9500</td>\n",
       "      <td>Pave</td>\n",
       "      <td>2</td>\n",
       "      <td>Lvl</td>\n",
       "      <td>Inside</td>\n",
       "      <td>2</td>\n",
       "      <td>NAmes</td>\n",
       "      <td>...</td>\n",
       "      <td>76</td>\n",
       "      <td>0</td>\n",
       "      <td>0</td>\n",
       "      <td>185</td>\n",
       "      <td>0</td>\n",
       "      <td>0</td>\n",
       "      <td>0</td>\n",
       "      <td>7</td>\n",
       "      <td>2009</td>\n",
       "      <td>WD</td>\n",
       "    </tr>\n",
       "  </tbody>\n",
       "</table>\n",
       "<p>5 rows × 74 columns</p>\n",
       "</div>"
      ],
      "text/plain": [
       "   ms_subclass ms_zoning  lot_frontage  lot_area street  lot_shape  \\\n",
       "0          190        RM          69.0      9142   Pave          3   \n",
       "1           90        RL           0.0      9662   Pave          2   \n",
       "2           60        RL          58.0     17104   Pave          2   \n",
       "3           30        RM          60.0      8520   Pave          3   \n",
       "4           20        RL           0.0      9500   Pave          2   \n",
       "\n",
       "  land_contour lot_config  land_slope neighborhood    ...    open_porch_sf  \\\n",
       "0          Lvl     Inside           2      OldTown    ...               60   \n",
       "1          Lvl     Inside           2       Sawyer    ...                0   \n",
       "2          Lvl     Inside           2      Gilbert    ...               24   \n",
       "3          Lvl     Inside           2      OldTown    ...                0   \n",
       "4          Lvl     Inside           2        NAmes    ...               76   \n",
       "\n",
       "  enclosed_porch 3ssn_porch screen_porch  pool_area  fence  misc_val  mo_sold  \\\n",
       "0            112          0            0          0      0         0        4   \n",
       "1              0          0            0          0      0         0        8   \n",
       "2              0          0            0          0      0         0        9   \n",
       "3            184          0            0          0      0         0        7   \n",
       "4              0          0          185          0      0         0        7   \n",
       "\n",
       "  yr_sold sale_type  \n",
       "0    2006       WD   \n",
       "1    2006       WD   \n",
       "2    2006       New  \n",
       "3    2007       WD   \n",
       "4    2009       WD   \n",
       "\n",
       "[5 rows x 74 columns]"
      ]
     },
     "execution_count": 178,
     "metadata": {},
     "output_type": "execute_result"
    }
   ],
   "source": [
    "df_to_pred.head()"
   ]
  },
  {
   "cell_type": "code",
   "execution_count": 179,
   "metadata": {},
   "outputs": [
    {
     "data": {
      "text/plain": [
       "(2051, 75)"
      ]
     },
     "execution_count": 179,
     "metadata": {},
     "output_type": "execute_result"
    }
   ],
   "source": [
    "df.shape"
   ]
  },
  {
   "cell_type": "code",
   "execution_count": 180,
   "metadata": {},
   "outputs": [
    {
     "data": {
      "text/plain": [
       "(879, 74)"
      ]
     },
     "execution_count": 180,
     "metadata": {},
     "output_type": "execute_result"
    }
   ],
   "source": [
    "df_to_pred.shape"
   ]
  },
  {
   "cell_type": "markdown",
   "metadata": {},
   "source": [
    "### Column match."
   ]
  },
  {
   "cell_type": "markdown",
   "metadata": {},
   "source": [
    "> - Before we get dummies, lets check if train and test data have same unique values for the columns that we want to get dummies."
   ]
  },
  {
   "cell_type": "code",
   "execution_count": 181,
   "metadata": {},
   "outputs": [],
   "source": [
    "# Write a function to check if a column's sorted unique value in train and test data is equal to each other. \n",
    "# If they are not equal, print out the column name to check it.\n",
    "def column_not_ok(df1, df2, column_names):\n",
    "    for i in column_names:\n",
    "        if (set(df[i].unique()) != set(df_to_pred[i].unique())) == True:\n",
    "            print(str(i))    "
   ]
  },
  {
   "cell_type": "code",
   "execution_count": 182,
   "metadata": {},
   "outputs": [
    {
     "name": "stdout",
     "output_type": "stream",
     "text": [
      "overall_qual\n",
      "bsmt_cond\n",
      "heating_qc\n",
      "kitchen_qual\n",
      "functional\n",
      "garage_qual\n"
     ]
    }
   ],
   "source": [
    "# Ordinal column names which has different unique value set\n",
    "column_not_ok(df, df_to_pred, ordinal_list)"
   ]
  },
  {
   "cell_type": "code",
   "execution_count": 183,
   "metadata": {},
   "outputs": [
    {
     "name": "stdout",
     "output_type": "stream",
     "text": [
      "ms_subclass\n",
      "ms_zoning\n",
      "neighborhood\n",
      "condition_2\n",
      "roof_matl\n",
      "exterior_1st\n",
      "exterior_2nd\n",
      "mas_vnr_type\n",
      "heating\n",
      "sale_type\n"
     ]
    }
   ],
   "source": [
    "# Nominal column names which has different unique value set\n",
    "column_not_ok(df, df_to_pred, nominal_list)"
   ]
  },
  {
   "cell_type": "code",
   "execution_count": 184,
   "metadata": {},
   "outputs": [],
   "source": [
    "# List of column names which has different unique value set.\n",
    "not_ok = ['overall_qual',\n",
    "        'bsmt_cond',\n",
    "        'heating_qc',\n",
    "        'kitchen_qual',\n",
    "        'functional',\n",
    "        'garage_qual',\n",
    "        'ms_zoning',\n",
    "        'ms_subclass',\n",
    "        'neighborhood',\n",
    "        'condition_2',\n",
    "        'roof_matl',\n",
    "        'exterior_1st',\n",
    "        'exterior_2nd',\n",
    "        'mas_vnr_type',\n",
    "        'heating',\n",
    "        'sale_type']"
   ]
  },
  {
   "cell_type": "markdown",
   "metadata": {},
   "source": [
    "### Let's compare train and test data of those columns."
   ]
  },
  {
   "cell_type": "markdown",
   "metadata": {},
   "source": [
    "- overall_qual\n",
    "- bsmt_cond\n",
    "- heating_qc\n",
    "- kitchen_qual\n",
    "- functional\n",
    "- garage_qual\n",
    "- ms_zoning\n",
    "- neighborhood\n",
    "- condition_2\n",
    "- roof_matl\n",
    "- exterior_1st\n",
    "- exterior_2nd\n",
    "- mas_vnr_type\n",
    "- heating\n",
    "- sale_type\n",
    "\n",
    "\n",
    "> We will try to change some values if their size is small, which won't impact our result."
   ]
  },
  {
   "cell_type": "markdown",
   "metadata": {},
   "source": [
    "#### Let's write a function that compare each columns unique values."
   ]
  },
  {
   "cell_type": "code",
   "execution_count": 185,
   "metadata": {},
   "outputs": [],
   "source": [
    "def compare_unique(data1, data2, column_name):\n",
    "    for i in column_name:\n",
    "        if len(data1[i].unique()) > len(data2[i].unique()):\n",
    "            print(i)\n",
    "            print(sorted(data1[i].unique()))\n",
    "            print(sorted(data2[i].unique()))\n",
    "            print(data1[i].value_counts().sort_index())\n",
    "            print('-' * 30)\n",
    "        else:\n",
    "            print(i)\n",
    "            print(sorted(data1[i].unique()))\n",
    "            print(sorted(data2[i].unique()))\n",
    "            print(data2[i].value_counts().sort_index())\n",
    "            print('-' * 30)"
   ]
  },
  {
   "cell_type": "code",
   "execution_count": 186,
   "metadata": {
    "scrolled": false
   },
   "outputs": [
    {
     "name": "stdout",
     "output_type": "stream",
     "text": [
      "overall_qual\n",
      "[1, 2, 3, 4, 5, 6, 7, 8, 9, 10]\n",
      "[2, 3, 4, 5, 6, 7, 8, 9, 10]\n",
      "1       4\n",
      "2       9\n",
      "3      29\n",
      "4     159\n",
      "5     563\n",
      "6     506\n",
      "7     431\n",
      "8     250\n",
      "9      77\n",
      "10     23\n",
      "Name: overall_qual, dtype: int64\n",
      "------------------------------\n",
      "bsmt_cond\n",
      "[0, 1, 2, 3, 4, 5]\n",
      "[0, 2, 3, 4]\n",
      "0      55\n",
      "1       5\n",
      "2      65\n",
      "3    1834\n",
      "4      89\n",
      "5       3\n",
      "Name: bsmt_cond, dtype: int64\n",
      "------------------------------\n",
      "heating_qc\n",
      "[0, 1, 2, 3, 4]\n",
      "[1, 2, 3, 4]\n",
      "0       3\n",
      "1      67\n",
      "2     597\n",
      "3     319\n",
      "4    1065\n",
      "Name: heating_qc, dtype: int64\n",
      "------------------------------\n",
      "kitchen_qual\n",
      "[1, 2, 3, 4]\n",
      "[0, 1, 2, 3, 4]\n",
      "0      1\n",
      "1     23\n",
      "2    447\n",
      "3    354\n",
      "4     54\n",
      "Name: kitchen_qual, dtype: int64\n",
      "------------------------------\n",
      "functional\n",
      "[0, 1, 2, 3, 4, 5, 6, 7]\n",
      "[2, 3, 4, 5, 6, 7]\n",
      "0       2\n",
      "1       2\n",
      "2       7\n",
      "3      12\n",
      "4      29\n",
      "5      42\n",
      "6      42\n",
      "7    1915\n",
      "Name: functional, dtype: int64\n",
      "------------------------------\n",
      "garage_qual\n",
      "[0, 1, 2, 3, 4, 5]\n",
      "[0, 1, 2, 3, 4]\n",
      "0     114\n",
      "1       2\n",
      "2      82\n",
      "3    1832\n",
      "4      18\n",
      "5       3\n",
      "Name: garage_qual, dtype: int64\n",
      "------------------------------\n",
      "ms_zoning\n",
      "['A (agr)', 'C (all)', 'FV', 'I (all)', 'RH', 'RL', 'RM']\n",
      "['C (all)', 'FV', 'I (all)', 'RH', 'RL', 'RM']\n",
      "A (agr)       2\n",
      "C (all)      19\n",
      "FV          101\n",
      "I (all)       1\n",
      "RH           14\n",
      "RL         1598\n",
      "RM          316\n",
      "Name: ms_zoning, dtype: int64\n",
      "------------------------------\n",
      "ms_subclass\n",
      "[20, 30, 40, 45, 50, 60, 70, 75, 80, 85, 90, 120, 150, 160, 180, 190]\n",
      "[20, 30, 40, 45, 50, 60, 70, 75, 80, 85, 90, 120, 160, 180, 190]\n",
      "20     770\n",
      "30     101\n",
      "40       4\n",
      "45      11\n",
      "50     198\n",
      "60     394\n",
      "70      90\n",
      "75      16\n",
      "80      86\n",
      "85      28\n",
      "90      75\n",
      "120    132\n",
      "150      1\n",
      "160     88\n",
      "180     11\n",
      "190     46\n",
      "Name: ms_subclass, dtype: int64\n",
      "------------------------------\n",
      "neighborhood\n",
      "['Blmngtn', 'Blueste', 'BrDale', 'BrkSide', 'ClearCr', 'CollgCr', 'Crawfor', 'Edwards', 'Gilbert', 'Greens', 'GrnHill', 'IDOTRR', 'Landmrk', 'MeadowV', 'Mitchel', 'NAmes', 'NPkVill', 'NWAmes', 'NoRidge', 'NridgHt', 'OldTown', 'SWISU', 'Sawyer', 'SawyerW', 'Somerst', 'StoneBr', 'Timber', 'Veenker']\n",
      "['Blmngtn', 'Blueste', 'BrDale', 'BrkSide', 'ClearCr', 'CollgCr', 'Crawfor', 'Edwards', 'Gilbert', 'Greens', 'IDOTRR', 'MeadowV', 'Mitchel', 'NAmes', 'NPkVill', 'NWAmes', 'NoRidge', 'NridgHt', 'OldTown', 'SWISU', 'Sawyer', 'SawyerW', 'Somerst', 'StoneBr', 'Timber', 'Veenker']\n",
      "Blmngtn     22\n",
      "Blueste      6\n",
      "BrDale      19\n",
      "BrkSide     76\n",
      "ClearCr     27\n",
      "CollgCr    180\n",
      "Crawfor     71\n",
      "Edwards    143\n",
      "Gilbert    116\n",
      "Greens       3\n",
      "GrnHill      2\n",
      "IDOTRR      69\n",
      "Landmrk      1\n",
      "MeadowV     24\n",
      "Mitchel     82\n",
      "NAmes      310\n",
      "NPkVill     17\n",
      "NWAmes      87\n",
      "NoRidge     48\n",
      "NridgHt    122\n",
      "OldTown    163\n",
      "SWISU       32\n",
      "Sawyer     111\n",
      "SawyerW     87\n",
      "Somerst    130\n",
      "StoneBr     38\n",
      "Timber      48\n",
      "Veenker     17\n",
      "Name: neighborhood, dtype: int64\n",
      "------------------------------\n",
      "condition_2\n",
      "['Artery', 'Feedr', 'Norm', 'PosA', 'PosN', 'RRAe', 'RRAn', 'RRNn']\n",
      "['Feedr', 'Norm', 'PosA', 'PosN']\n",
      "Artery       5\n",
      "Feedr       11\n",
      "Norm      2025\n",
      "PosA         3\n",
      "PosN         3\n",
      "RRAe         1\n",
      "RRAn         1\n",
      "RRNn         2\n",
      "Name: condition_2, dtype: int64\n",
      "------------------------------\n",
      "roof_matl\n",
      "['ClyTile', 'CompShg', 'Membran', 'Tar&Grv', 'WdShake', 'WdShngl']\n",
      "['CompShg', 'Metal', 'Roll', 'Tar&Grv', 'WdShake', 'WdShngl']\n",
      "CompShg    862\n",
      "Metal        1\n",
      "Roll         1\n",
      "Tar&Grv      8\n",
      "WdShake      5\n",
      "WdShngl      2\n",
      "Name: roof_matl, dtype: int64\n",
      "------------------------------\n",
      "exterior_1st\n",
      "['AsbShng', 'AsphShn', 'BrkComm', 'BrkFace', 'CBlock', 'CemntBd', 'HdBoard', 'ImStucc', 'MetalSd', 'Plywood', 'Stone', 'Stucco', 'VinylSd', 'Wd Sdng', 'WdShing']\n",
      "['AsbShng', 'AsphShn', 'BrkComm', 'BrkFace', 'CemntBd', 'HdBoard', 'MetalSd', 'Plywood', 'PreCast', 'Stucco', 'VinylSd', 'Wd Sdng', 'WdShing']\n",
      "AsbShng     33\n",
      "AsphShn      1\n",
      "BrkComm      3\n",
      "BrkFace     64\n",
      "CBlock       2\n",
      "CemntBd     90\n",
      "HdBoard    300\n",
      "ImStucc      1\n",
      "MetalSd    331\n",
      "Plywood    152\n",
      "Stone        2\n",
      "Stucco      27\n",
      "VinylSd    724\n",
      "Wd Sdng    276\n",
      "WdShing     45\n",
      "Name: exterior_1st, dtype: int64\n",
      "------------------------------\n",
      "exterior_2nd\n",
      "['AsbShng', 'AsphShn', 'Brk Cmn', 'BrkFace', 'CBlock', 'CmentBd', 'HdBoard', 'ImStucc', 'MetalSd', 'Plywood', 'Stone', 'Stucco', 'VinylSd', 'Wd Sdng', 'Wd Shng']\n",
      "['AsbShng', 'AsphShn', 'Brk Cmn', 'BrkFace', 'CBlock', 'CmentBd', 'HdBoard', 'ImStucc', 'MetalSd', 'Other', 'Plywood', 'PreCast', 'Stucco', 'VinylSd', 'Wd Sdng', 'Wd Shng']\n",
      "AsbShng     10\n",
      "AsphShn      1\n",
      "Brk Cmn      5\n",
      "BrkFace     13\n",
      "CBlock       1\n",
      "CmentBd     36\n",
      "HdBoard    131\n",
      "ImStucc      4\n",
      "MetalSd    123\n",
      "Other        1\n",
      "Plywood     89\n",
      "PreCast      1\n",
      "Stucco      17\n",
      "VinylSd    294\n",
      "Wd Sdng    135\n",
      "Wd Shng     18\n",
      "Name: exterior_2nd, dtype: int64\n",
      "------------------------------\n",
      "mas_vnr_type\n",
      "['BrkCmn', 'BrkFace', 'None', 'Stone']\n",
      "['BrkCmn', 'BrkFace', 'CBlock', 'None', 'Stone']\n",
      "BrkCmn      12\n",
      "BrkFace    250\n",
      "CBlock       1\n",
      "None       535\n",
      "Stone       81\n",
      "Name: mas_vnr_type, dtype: int64\n",
      "------------------------------\n",
      "heating\n",
      "['GasA', 'GasW', 'Grav', 'OthW', 'Wall']\n",
      "['Floor', 'GasA', 'GasW', 'Grav']\n",
      "GasA    2018\n",
      "GasW      20\n",
      "Grav       5\n",
      "OthW       2\n",
      "Wall       6\n",
      "Name: heating, dtype: int64\n",
      "------------------------------\n",
      "sale_type\n",
      "['COD', 'CWD', 'Con', 'ConLD', 'ConLI', 'ConLw', 'New', 'Oth', 'WD ']\n",
      "['COD', 'CWD', 'Con', 'ConLD', 'ConLI', 'ConLw', 'New', 'Oth', 'VWD', 'WD ']\n",
      "COD       24\n",
      "CWD        2\n",
      "Con        1\n",
      "ConLD      9\n",
      "ConLI      2\n",
      "ConLw      3\n",
      "New       79\n",
      "Oth        3\n",
      "VWD        1\n",
      "WD       755\n",
      "Name: sale_type, dtype: int64\n",
      "------------------------------\n"
     ]
    }
   ],
   "source": [
    "compare_unique(df, df_to_pred, not_ok)"
   ]
  },
  {
   "cell_type": "markdown",
   "metadata": {},
   "source": [
    "### Delete columns"
   ]
  },
  {
   "cell_type": "markdown",
   "metadata": {},
   "source": [
    "#### Write a function that convert the insignificant values in the row to null value. And then drop the null value."
   ]
  },
  {
   "cell_type": "code",
   "execution_count": 187,
   "metadata": {},
   "outputs": [],
   "source": [
    "def del_row(data1, data2, column_name):\n",
    "    for i in column_name:\n",
    "        if len(set(data1[i].unique()) - set(data2[i].unique())) != 0:\n",
    "            for j in set(data1[i].unique()) - set(data2[i].unique()):\n",
    "                data1[i][data1[i]==j] = None\n",
    "    return data1   "
   ]
  },
  {
   "cell_type": "code",
   "execution_count": 188,
   "metadata": {
    "scrolled": true
   },
   "outputs": [
    {
     "name": "stderr",
     "output_type": "stream",
     "text": [
      "/anaconda3/lib/python3.6/site-packages/ipykernel_launcher.py:5: SettingWithCopyWarning: \n",
      "A value is trying to be set on a copy of a slice from a DataFrame\n",
      "\n",
      "See the caveats in the documentation: http://pandas.pydata.org/pandas-docs/stable/indexing.html#indexing-view-versus-copy\n",
      "  \"\"\"\n"
     ]
    }
   ],
   "source": [
    "# Applt the function\n",
    "df = del_row(df, df_to_pred, nominal_list)\n",
    "df = del_row(df, df_to_pred, ordinal_list)\n",
    "\n",
    "df_to_pred = del_row(df_to_pred, df, nominal_list)\n",
    "df_to_pred = del_row(df_to_pred, df, ordinal_list)"
   ]
  },
  {
   "cell_type": "code",
   "execution_count": null,
   "metadata": {},
   "outputs": [],
   "source": []
  },
  {
   "cell_type": "code",
   "execution_count": 189,
   "metadata": {},
   "outputs": [
    {
     "data": {
      "text/plain": [
       "(2003, 75)"
      ]
     },
     "execution_count": 189,
     "metadata": {},
     "output_type": "execute_result"
    }
   ],
   "source": [
    "df.dropna(axis=0, inplace=True)\n",
    "df.shape"
   ]
  },
  {
   "cell_type": "markdown",
   "metadata": {},
   "source": [
    "#### We still have some columns above. Lets review the data."
   ]
  },
  {
   "cell_type": "code",
   "execution_count": 190,
   "metadata": {},
   "outputs": [
    {
     "name": "stdout",
     "output_type": "stream",
     "text": [
      "kitchen_qual\n",
      "garage_cond\n",
      "roof_matl\n",
      "exterior_1st\n",
      "exterior_2nd\n",
      "mas_vnr_type\n",
      "heating\n",
      "sale_type\n"
     ]
    }
   ],
   "source": [
    "nom_ord_list = ordinal_list + nominal_list\n",
    "column_not_ok(df, df_to_pred, nom_ord_list)"
   ]
  },
  {
   "cell_type": "code",
   "execution_count": 191,
   "metadata": {},
   "outputs": [
    {
     "data": {
      "text/plain": [
       "4    1833\n",
       "3     135\n",
       "2      28\n",
       "1       7\n",
       "Name: electrical, dtype: int64"
      ]
     },
     "execution_count": 191,
     "metadata": {},
     "output_type": "execute_result"
    }
   ],
   "source": [
    "df['electrical'].value_counts()"
   ]
  },
  {
   "cell_type": "code",
   "execution_count": 192,
   "metadata": {},
   "outputs": [
    {
     "data": {
      "text/plain": [
       "4    814\n",
       "3     48\n",
       "2     15\n",
       "1      2\n",
       "Name: electrical, dtype: int64"
      ]
     },
     "execution_count": 192,
     "metadata": {},
     "output_type": "execute_result"
    }
   ],
   "source": [
    "df_to_pred['electrical'].value_counts()"
   ]
  },
  {
   "cell_type": "code",
   "execution_count": 193,
   "metadata": {},
   "outputs": [
    {
     "name": "stderr",
     "output_type": "stream",
     "text": [
      "/anaconda3/lib/python3.6/site-packages/ipykernel_launcher.py:2: SettingWithCopyWarning: \n",
      "A value is trying to be set on a copy of a slice from a DataFrame\n",
      "\n",
      "See the caveats in the documentation: http://pandas.pydata.org/pandas-docs/stable/indexing.html#indexing-view-versus-copy\n",
      "  \n"
     ]
    }
   ],
   "source": [
    "# change 0 value to np.NaN and drop the row.\n",
    "df_to_pred['electrical'][df_to_pred['electrical'] == 0] = np.NaN"
   ]
  },
  {
   "cell_type": "code",
   "execution_count": 194,
   "metadata": {},
   "outputs": [
    {
     "data": {
      "text/plain": [
       "3    1837\n",
       "0     107\n",
       "2      41\n",
       "4      12\n",
       "1       6\n",
       "Name: garage_cond, dtype: int64"
      ]
     },
     "execution_count": 194,
     "metadata": {},
     "output_type": "execute_result"
    }
   ],
   "source": [
    "df['garage_cond'].value_counts()"
   ]
  },
  {
   "cell_type": "code",
   "execution_count": 195,
   "metadata": {},
   "outputs": [
    {
     "data": {
      "text/plain": [
       "3    797\n",
       "0     45\n",
       "2     27\n",
       "1      6\n",
       "4      3\n",
       "5      1\n",
       "Name: garage_cond, dtype: int64"
      ]
     },
     "execution_count": 195,
     "metadata": {},
     "output_type": "execute_result"
    }
   ],
   "source": [
    "df_to_pred['garage_cond'].value_counts()"
   ]
  },
  {
   "cell_type": "code",
   "execution_count": 196,
   "metadata": {},
   "outputs": [
    {
     "name": "stderr",
     "output_type": "stream",
     "text": [
      "/anaconda3/lib/python3.6/site-packages/ipykernel_launcher.py:2: SettingWithCopyWarning: \n",
      "A value is trying to be set on a copy of a slice from a DataFrame\n",
      "\n",
      "See the caveats in the documentation: http://pandas.pydata.org/pandas-docs/stable/indexing.html#indexing-view-versus-copy\n",
      "  \n"
     ]
    }
   ],
   "source": [
    "# change 5 value to np.NaN and drop the row.\n",
    "df_to_pred['garage_cond'][df_to_pred['garage_cond'] == 5] = 4\n"
   ]
  },
  {
   "cell_type": "code",
   "execution_count": 197,
   "metadata": {},
   "outputs": [
    {
     "data": {
      "text/plain": [
       "3    797\n",
       "0     45\n",
       "2     27\n",
       "1      6\n",
       "4      4\n",
       "Name: garage_cond, dtype: int64"
      ]
     },
     "execution_count": 197,
     "metadata": {},
     "output_type": "execute_result"
    }
   ],
   "source": [
    "df.garage_cond.value_counts()\n",
    "df_to_pred.garage_cond.value_counts()"
   ]
  },
  {
   "cell_type": "code",
   "execution_count": null,
   "metadata": {},
   "outputs": [],
   "source": []
  },
  {
   "cell_type": "markdown",
   "metadata": {},
   "source": [
    "### Get dummies by using 'dummies' fuction"
   ]
  },
  {
   "cell_type": "code",
   "execution_count": 198,
   "metadata": {},
   "outputs": [
    {
     "data": {
      "text/html": [
       "<div>\n",
       "<style scoped>\n",
       "    .dataframe tbody tr th:only-of-type {\n",
       "        vertical-align: middle;\n",
       "    }\n",
       "\n",
       "    .dataframe tbody tr th {\n",
       "        vertical-align: top;\n",
       "    }\n",
       "\n",
       "    .dataframe thead th {\n",
       "        text-align: right;\n",
       "    }\n",
       "</style>\n",
       "<table border=\"1\" class=\"dataframe\">\n",
       "  <thead>\n",
       "    <tr style=\"text-align: right;\">\n",
       "      <th></th>\n",
       "      <th>ms_subclass</th>\n",
       "      <th>ms_zoning</th>\n",
       "      <th>lot_frontage</th>\n",
       "      <th>lot_area</th>\n",
       "      <th>street</th>\n",
       "      <th>lot_shape</th>\n",
       "      <th>land_contour</th>\n",
       "      <th>lot_config</th>\n",
       "      <th>land_slope</th>\n",
       "      <th>neighborhood</th>\n",
       "      <th>...</th>\n",
       "      <th>enclosed_porch</th>\n",
       "      <th>3ssn_porch</th>\n",
       "      <th>screen_porch</th>\n",
       "      <th>pool_area</th>\n",
       "      <th>fence</th>\n",
       "      <th>misc_val</th>\n",
       "      <th>mo_sold</th>\n",
       "      <th>yr_sold</th>\n",
       "      <th>sale_type</th>\n",
       "      <th>saleprice</th>\n",
       "    </tr>\n",
       "  </thead>\n",
       "  <tbody>\n",
       "    <tr>\n",
       "      <th>0</th>\n",
       "      <td>60.0</td>\n",
       "      <td>RL</td>\n",
       "      <td>0.0</td>\n",
       "      <td>13517.0</td>\n",
       "      <td>Pave</td>\n",
       "      <td>2.0</td>\n",
       "      <td>Lvl</td>\n",
       "      <td>CulDSac</td>\n",
       "      <td>2.0</td>\n",
       "      <td>Sawyer</td>\n",
       "      <td>...</td>\n",
       "      <td>0.0</td>\n",
       "      <td>0.0</td>\n",
       "      <td>0.0</td>\n",
       "      <td>0.0</td>\n",
       "      <td>0.0</td>\n",
       "      <td>0.0</td>\n",
       "      <td>3.0</td>\n",
       "      <td>2010.0</td>\n",
       "      <td>WD</td>\n",
       "      <td>130500.0</td>\n",
       "    </tr>\n",
       "    <tr>\n",
       "      <th>1</th>\n",
       "      <td>60.0</td>\n",
       "      <td>RL</td>\n",
       "      <td>43.0</td>\n",
       "      <td>11492.0</td>\n",
       "      <td>Pave</td>\n",
       "      <td>2.0</td>\n",
       "      <td>Lvl</td>\n",
       "      <td>CulDSac</td>\n",
       "      <td>2.0</td>\n",
       "      <td>SawyerW</td>\n",
       "      <td>...</td>\n",
       "      <td>0.0</td>\n",
       "      <td>0.0</td>\n",
       "      <td>0.0</td>\n",
       "      <td>0.0</td>\n",
       "      <td>0.0</td>\n",
       "      <td>0.0</td>\n",
       "      <td>4.0</td>\n",
       "      <td>2009.0</td>\n",
       "      <td>WD</td>\n",
       "      <td>220000.0</td>\n",
       "    </tr>\n",
       "    <tr>\n",
       "      <th>2</th>\n",
       "      <td>20.0</td>\n",
       "      <td>RL</td>\n",
       "      <td>68.0</td>\n",
       "      <td>7922.0</td>\n",
       "      <td>Pave</td>\n",
       "      <td>3.0</td>\n",
       "      <td>Lvl</td>\n",
       "      <td>Inside</td>\n",
       "      <td>2.0</td>\n",
       "      <td>NAmes</td>\n",
       "      <td>...</td>\n",
       "      <td>0.0</td>\n",
       "      <td>0.0</td>\n",
       "      <td>0.0</td>\n",
       "      <td>0.0</td>\n",
       "      <td>0.0</td>\n",
       "      <td>0.0</td>\n",
       "      <td>1.0</td>\n",
       "      <td>2010.0</td>\n",
       "      <td>WD</td>\n",
       "      <td>109000.0</td>\n",
       "    </tr>\n",
       "    <tr>\n",
       "      <th>3</th>\n",
       "      <td>60.0</td>\n",
       "      <td>RL</td>\n",
       "      <td>73.0</td>\n",
       "      <td>9802.0</td>\n",
       "      <td>Pave</td>\n",
       "      <td>3.0</td>\n",
       "      <td>Lvl</td>\n",
       "      <td>Inside</td>\n",
       "      <td>2.0</td>\n",
       "      <td>Timber</td>\n",
       "      <td>...</td>\n",
       "      <td>0.0</td>\n",
       "      <td>0.0</td>\n",
       "      <td>0.0</td>\n",
       "      <td>0.0</td>\n",
       "      <td>0.0</td>\n",
       "      <td>0.0</td>\n",
       "      <td>4.0</td>\n",
       "      <td>2010.0</td>\n",
       "      <td>WD</td>\n",
       "      <td>174000.0</td>\n",
       "    </tr>\n",
       "    <tr>\n",
       "      <th>4</th>\n",
       "      <td>50.0</td>\n",
       "      <td>RL</td>\n",
       "      <td>82.0</td>\n",
       "      <td>14235.0</td>\n",
       "      <td>Pave</td>\n",
       "      <td>2.0</td>\n",
       "      <td>Lvl</td>\n",
       "      <td>Inside</td>\n",
       "      <td>2.0</td>\n",
       "      <td>SawyerW</td>\n",
       "      <td>...</td>\n",
       "      <td>0.0</td>\n",
       "      <td>0.0</td>\n",
       "      <td>0.0</td>\n",
       "      <td>0.0</td>\n",
       "      <td>0.0</td>\n",
       "      <td>0.0</td>\n",
       "      <td>3.0</td>\n",
       "      <td>2010.0</td>\n",
       "      <td>WD</td>\n",
       "      <td>138500.0</td>\n",
       "    </tr>\n",
       "  </tbody>\n",
       "</table>\n",
       "<p>5 rows × 75 columns</p>\n",
       "</div>"
      ],
      "text/plain": [
       "   ms_subclass ms_zoning  lot_frontage  lot_area street  lot_shape  \\\n",
       "0         60.0        RL           0.0   13517.0   Pave        2.0   \n",
       "1         60.0        RL          43.0   11492.0   Pave        2.0   \n",
       "2         20.0        RL          68.0    7922.0   Pave        3.0   \n",
       "3         60.0        RL          73.0    9802.0   Pave        3.0   \n",
       "4         50.0        RL          82.0   14235.0   Pave        2.0   \n",
       "\n",
       "  land_contour lot_config  land_slope neighborhood    ...    enclosed_porch  \\\n",
       "0          Lvl    CulDSac         2.0       Sawyer    ...               0.0   \n",
       "1          Lvl    CulDSac         2.0      SawyerW    ...               0.0   \n",
       "2          Lvl     Inside         2.0        NAmes    ...               0.0   \n",
       "3          Lvl     Inside         2.0       Timber    ...               0.0   \n",
       "4          Lvl     Inside         2.0      SawyerW    ...               0.0   \n",
       "\n",
       "  3ssn_porch screen_porch pool_area  fence  misc_val  mo_sold  yr_sold  \\\n",
       "0        0.0          0.0       0.0    0.0       0.0      3.0   2010.0   \n",
       "1        0.0          0.0       0.0    0.0       0.0      4.0   2009.0   \n",
       "2        0.0          0.0       0.0    0.0       0.0      1.0   2010.0   \n",
       "3        0.0          0.0       0.0    0.0       0.0      4.0   2010.0   \n",
       "4        0.0          0.0       0.0    0.0       0.0      3.0   2010.0   \n",
       "\n",
       "  sale_type saleprice  \n",
       "0       WD   130500.0  \n",
       "1       WD   220000.0  \n",
       "2       WD   109000.0  \n",
       "3       WD   174000.0  \n",
       "4       WD   138500.0  \n",
       "\n",
       "[5 rows x 75 columns]"
      ]
     },
     "execution_count": 198,
     "metadata": {},
     "output_type": "execute_result"
    }
   ],
   "source": [
    "# Check if train and test datasets have same dtype to prevent int/floats difference in dummies.\n",
    "# Lets change all float to integer.\n",
    "df = df.astype(float, errors='ignore')\n",
    "df.head()"
   ]
  },
  {
   "cell_type": "code",
   "execution_count": 199,
   "metadata": {},
   "outputs": [
    {
     "data": {
      "text/html": [
       "<div>\n",
       "<style scoped>\n",
       "    .dataframe tbody tr th:only-of-type {\n",
       "        vertical-align: middle;\n",
       "    }\n",
       "\n",
       "    .dataframe tbody tr th {\n",
       "        vertical-align: top;\n",
       "    }\n",
       "\n",
       "    .dataframe thead th {\n",
       "        text-align: right;\n",
       "    }\n",
       "</style>\n",
       "<table border=\"1\" class=\"dataframe\">\n",
       "  <thead>\n",
       "    <tr style=\"text-align: right;\">\n",
       "      <th></th>\n",
       "      <th>ms_subclass</th>\n",
       "      <th>ms_zoning</th>\n",
       "      <th>lot_frontage</th>\n",
       "      <th>lot_area</th>\n",
       "      <th>street</th>\n",
       "      <th>lot_shape</th>\n",
       "      <th>land_contour</th>\n",
       "      <th>lot_config</th>\n",
       "      <th>land_slope</th>\n",
       "      <th>neighborhood</th>\n",
       "      <th>...</th>\n",
       "      <th>open_porch_sf</th>\n",
       "      <th>enclosed_porch</th>\n",
       "      <th>3ssn_porch</th>\n",
       "      <th>screen_porch</th>\n",
       "      <th>pool_area</th>\n",
       "      <th>fence</th>\n",
       "      <th>misc_val</th>\n",
       "      <th>mo_sold</th>\n",
       "      <th>yr_sold</th>\n",
       "      <th>sale_type</th>\n",
       "    </tr>\n",
       "  </thead>\n",
       "  <tbody>\n",
       "    <tr>\n",
       "      <th>0</th>\n",
       "      <td>190.0</td>\n",
       "      <td>RM</td>\n",
       "      <td>69.0</td>\n",
       "      <td>9142.0</td>\n",
       "      <td>Pave</td>\n",
       "      <td>3.0</td>\n",
       "      <td>Lvl</td>\n",
       "      <td>Inside</td>\n",
       "      <td>2.0</td>\n",
       "      <td>OldTown</td>\n",
       "      <td>...</td>\n",
       "      <td>60.0</td>\n",
       "      <td>112.0</td>\n",
       "      <td>0.0</td>\n",
       "      <td>0.0</td>\n",
       "      <td>0.0</td>\n",
       "      <td>0.0</td>\n",
       "      <td>0.0</td>\n",
       "      <td>4.0</td>\n",
       "      <td>2006.0</td>\n",
       "      <td>WD</td>\n",
       "    </tr>\n",
       "    <tr>\n",
       "      <th>1</th>\n",
       "      <td>90.0</td>\n",
       "      <td>RL</td>\n",
       "      <td>0.0</td>\n",
       "      <td>9662.0</td>\n",
       "      <td>Pave</td>\n",
       "      <td>2.0</td>\n",
       "      <td>Lvl</td>\n",
       "      <td>Inside</td>\n",
       "      <td>2.0</td>\n",
       "      <td>Sawyer</td>\n",
       "      <td>...</td>\n",
       "      <td>0.0</td>\n",
       "      <td>0.0</td>\n",
       "      <td>0.0</td>\n",
       "      <td>0.0</td>\n",
       "      <td>0.0</td>\n",
       "      <td>0.0</td>\n",
       "      <td>0.0</td>\n",
       "      <td>8.0</td>\n",
       "      <td>2006.0</td>\n",
       "      <td>WD</td>\n",
       "    </tr>\n",
       "    <tr>\n",
       "      <th>2</th>\n",
       "      <td>60.0</td>\n",
       "      <td>RL</td>\n",
       "      <td>58.0</td>\n",
       "      <td>17104.0</td>\n",
       "      <td>Pave</td>\n",
       "      <td>2.0</td>\n",
       "      <td>Lvl</td>\n",
       "      <td>Inside</td>\n",
       "      <td>2.0</td>\n",
       "      <td>Gilbert</td>\n",
       "      <td>...</td>\n",
       "      <td>24.0</td>\n",
       "      <td>0.0</td>\n",
       "      <td>0.0</td>\n",
       "      <td>0.0</td>\n",
       "      <td>0.0</td>\n",
       "      <td>0.0</td>\n",
       "      <td>0.0</td>\n",
       "      <td>9.0</td>\n",
       "      <td>2006.0</td>\n",
       "      <td>New</td>\n",
       "    </tr>\n",
       "    <tr>\n",
       "      <th>3</th>\n",
       "      <td>30.0</td>\n",
       "      <td>RM</td>\n",
       "      <td>60.0</td>\n",
       "      <td>8520.0</td>\n",
       "      <td>Pave</td>\n",
       "      <td>3.0</td>\n",
       "      <td>Lvl</td>\n",
       "      <td>Inside</td>\n",
       "      <td>2.0</td>\n",
       "      <td>OldTown</td>\n",
       "      <td>...</td>\n",
       "      <td>0.0</td>\n",
       "      <td>184.0</td>\n",
       "      <td>0.0</td>\n",
       "      <td>0.0</td>\n",
       "      <td>0.0</td>\n",
       "      <td>0.0</td>\n",
       "      <td>0.0</td>\n",
       "      <td>7.0</td>\n",
       "      <td>2007.0</td>\n",
       "      <td>WD</td>\n",
       "    </tr>\n",
       "    <tr>\n",
       "      <th>4</th>\n",
       "      <td>20.0</td>\n",
       "      <td>RL</td>\n",
       "      <td>0.0</td>\n",
       "      <td>9500.0</td>\n",
       "      <td>Pave</td>\n",
       "      <td>2.0</td>\n",
       "      <td>Lvl</td>\n",
       "      <td>Inside</td>\n",
       "      <td>2.0</td>\n",
       "      <td>NAmes</td>\n",
       "      <td>...</td>\n",
       "      <td>76.0</td>\n",
       "      <td>0.0</td>\n",
       "      <td>0.0</td>\n",
       "      <td>185.0</td>\n",
       "      <td>0.0</td>\n",
       "      <td>0.0</td>\n",
       "      <td>0.0</td>\n",
       "      <td>7.0</td>\n",
       "      <td>2009.0</td>\n",
       "      <td>WD</td>\n",
       "    </tr>\n",
       "  </tbody>\n",
       "</table>\n",
       "<p>5 rows × 74 columns</p>\n",
       "</div>"
      ],
      "text/plain": [
       "   ms_subclass ms_zoning  lot_frontage  lot_area street  lot_shape  \\\n",
       "0        190.0        RM          69.0    9142.0   Pave        3.0   \n",
       "1         90.0        RL           0.0    9662.0   Pave        2.0   \n",
       "2         60.0        RL          58.0   17104.0   Pave        2.0   \n",
       "3         30.0        RM          60.0    8520.0   Pave        3.0   \n",
       "4         20.0        RL           0.0    9500.0   Pave        2.0   \n",
       "\n",
       "  land_contour lot_config  land_slope neighborhood    ...    open_porch_sf  \\\n",
       "0          Lvl     Inside         2.0      OldTown    ...             60.0   \n",
       "1          Lvl     Inside         2.0       Sawyer    ...              0.0   \n",
       "2          Lvl     Inside         2.0      Gilbert    ...             24.0   \n",
       "3          Lvl     Inside         2.0      OldTown    ...              0.0   \n",
       "4          Lvl     Inside         2.0        NAmes    ...             76.0   \n",
       "\n",
       "  enclosed_porch 3ssn_porch screen_porch  pool_area  fence  misc_val  mo_sold  \\\n",
       "0          112.0        0.0          0.0        0.0    0.0       0.0      4.0   \n",
       "1            0.0        0.0          0.0        0.0    0.0       0.0      8.0   \n",
       "2            0.0        0.0          0.0        0.0    0.0       0.0      9.0   \n",
       "3          184.0        0.0          0.0        0.0    0.0       0.0      7.0   \n",
       "4            0.0        0.0        185.0        0.0    0.0       0.0      7.0   \n",
       "\n",
       "  yr_sold sale_type  \n",
       "0  2006.0       WD   \n",
       "1  2006.0       WD   \n",
       "2  2006.0       New  \n",
       "3  2007.0       WD   \n",
       "4  2009.0       WD   \n",
       "\n",
       "[5 rows x 74 columns]"
      ]
     },
     "execution_count": 199,
     "metadata": {},
     "output_type": "execute_result"
    }
   ],
   "source": [
    "df_to_pred = df_to_pred.astype(float, errors='ignore')\n",
    "df_to_pred.head()"
   ]
  },
  {
   "cell_type": "code",
   "execution_count": null,
   "metadata": {},
   "outputs": [],
   "source": []
  },
  {
   "cell_type": "code",
   "execution_count": 200,
   "metadata": {},
   "outputs": [],
   "source": [
    "# Define a function that will return the data with dummies of specific columns.\n",
    "def dummies(dataframe1, column_name):\n",
    "    data = pd.get_dummies(dataframe1, columns=column_name)\n",
    "    return data"
   ]
  },
  {
   "cell_type": "code",
   "execution_count": 201,
   "metadata": {},
   "outputs": [],
   "source": [
    "df = dummies(df, nom_ord_list)\n",
    "df_to_pred = dummies(df_to_pred, nom_ord_list)"
   ]
  },
  {
   "cell_type": "markdown",
   "metadata": {},
   "source": [
    "### Save final cleaned data"
   ]
  },
  {
   "cell_type": "code",
   "execution_count": 202,
   "metadata": {},
   "outputs": [],
   "source": [
    "df.to_csv(\"../datasets/train_cleaned_final.csv\")\n",
    "df_to_pred.to_csv('../datasets/test_cleaned_final.csv')"
   ]
  }
 ],
 "metadata": {
  "kernelspec": {
   "display_name": "Python 3",
   "language": "python",
   "name": "python3"
  },
  "language_info": {
   "codemirror_mode": {
    "name": "ipython",
    "version": 3
   },
   "file_extension": ".py",
   "mimetype": "text/x-python",
   "name": "python",
   "nbconvert_exporter": "python",
   "pygments_lexer": "ipython3",
   "version": "3.6.8"
  }
 },
 "nbformat": 4,
 "nbformat_minor": 2
}
